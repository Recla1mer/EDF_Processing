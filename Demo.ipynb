{
 "cells": [
  {
   "cell_type": "markdown",
   "metadata": {},
   "source": [
    "Author: Johannes Peter Knoll\n",
    "\n",
    "(For josef)"
   ]
  },
  {
   "cell_type": "markdown",
   "metadata": {},
   "source": [
    "# Introduction\n",
    "\n",
    "To determine the RRI, my program first checks where the ECG is processable: \\\n",
    "key: \"valid_ecg_regions\" - list of tuples, e.g.: \n",
    "\\[ \\[start_valid_region_1, end_valid_region_1\\], \\[..._2,..._2\\], ... \\] \n",
    "\n",
    "It then calculates the position of the r-peaks within these regions (but adds them to the same list): \\\n",
    "key: \"hamilton\" - list of values, e.g.: \\[ rpeak_position_1, rpeak_position_2, ... \\]\n",
    "\n",
    "From those, it can determine the RRI (separated into lists, containing the rri values within a valid ecg region): \\\n",
    "key: \"RRI\" - list of lists, e.g.: \\[ \\[\\<rri_values_within_valid_ecg_region_1\\>\\], \\[\\<..._2\\>\\], ... \\]\n",
    "\n",
    "I also found a channel in the provided SHIP data which was called: \"RR\". I assumed it might also hold the \n",
    "RR-Intervals, which is why I added this to the results as well: \\\n",
    "key: \"SHIP_RR\" - list of values, e.g.: \\[ ... \\]\n",
    "\n",
    "These results were saved as individual dictionaries for every .edf-file in one .pkl file in the following \n",
    "format:"
   ]
  },
  {
   "cell_type": "code",
   "execution_count": null,
   "metadata": {},
   "outputs": [],
   "source": [
    "# {\n",
    "#     \"file_name\":     \n",
    "#         Name of the (.edf) file the results are calculated for,\n",
    "\n",
    "#     \"valid_ecg_regions\": \n",
    "#         List of valid regions in the ECG data, that is used during r-peak detection,\n",
    "    \n",
    "#     \"rpeak-function-name\":\n",
    "#         List of r-peak locations detected by the rpeak-function-name function.\n",
    "    \n",
    "#     \"RRI\":\n",
    "#         List of RR-intervals calculated from the r-peak locations.\n",
    "    \n",
    "#     \"RRI_frequency\":\n",
    "#         Sampling frequency of the RR-intervals.\n",
    "    \n",
    "#     \"SHIP_RR\":\n",
    "#         Already provided RR-intervals for the SHIP data (?)\n",
    "\n",
    "#     \"SHIP_RR_frequency\":\n",
    "#         Sampling frequency of the SHIP_RR intervals.\n",
    "# }"
   ]
  },
  {
   "cell_type": "code",
   "execution_count": null,
   "metadata": {},
   "outputs": [],
   "source": [
    "import pickle\n",
    "\n",
    "def load_from_pickle(file_path: str):\n",
    "    \"\"\"\n",
    "    Load data from a pickle file as a generator.\n",
    "\n",
    "    ARGUMENTS:\n",
    "    --------------------------------\n",
    "    file_path: str\n",
    "        path to the pickle file\n",
    "    \n",
    "    RETURNS:\n",
    "    --------------------------------\n",
    "    generator\n",
    "        data from the pickle file\n",
    "    \"\"\"\n",
    "\n",
    "    with open(file_path, \"rb\") as f:\n",
    "        while True:\n",
    "            try:\n",
    "                yield pickle.load(f)\n",
    "            except:\n",
    "                break\n",
    "\n",
    "\n",
    "def append_to_pickle(data, file_path):\n",
    "    \"\"\"\n",
    "    Append data to a pickle file, without deleting previous data.\n",
    "\n",
    "    ARGUMENTS:\n",
    "    --------------------------------\n",
    "    data: any\n",
    "        data to be saved\n",
    "    file_path: str\n",
    "        path to the pickle file\n",
    "    \n",
    "    RETURNS:\n",
    "    --------------------------------\n",
    "    None\n",
    "    \"\"\"\n",
    "    with open(file_path, \"ab\") as f:\n",
    "        pickle.dump(data, f)"
   ]
  },
  {
   "cell_type": "markdown",
   "metadata": {},
   "source": [
    "# Split Results"
   ]
  },
  {
   "cell_type": "code",
   "execution_count": null,
   "metadata": {},
   "outputs": [],
   "source": [
    "path_to_results = \"Processed_SHIP/EDF-gek_Results.pkl\"\n",
    "path_to_new_results = \"Processed_SHIP/SHIP_Results\"\n",
    "\n",
    "count_splits = 1\n",
    "count = 0\n",
    "results_generator = load_from_pickle(path_to_results)\n",
    "for individual_file_results in results_generator:\n",
    "    append_to_pickle(individual_file_results, path_to_new_results + str(count_splits) + \".pkl\")\n",
    "    count += 1\n",
    "    if count > 150:\n",
    "        count = 0\n",
    "        count_splits += 1"
   ]
  },
  {
   "cell_type": "markdown",
   "metadata": {},
   "source": [
    "# Fuse Results"
   ]
  },
  {
   "cell_type": "code",
   "execution_count": null,
   "metadata": {},
   "outputs": [],
   "source": [
    "import os\n",
    "\n",
    "path_to_directory = \"<Path>\"\n",
    "path_to_directory = \"Processed_SHIP/\"\n",
    "\n",
    "path_to_new_results = \"<Path>/SHIP_Results.pkl\"\n",
    "path_to_new_results = \"Processed_SHIP/SHIP_Results.pkl\"\n",
    "\n",
    "all_files = [file for file in os.listdir(path_to_directory) if file.endswith(\".pkl\")]\n",
    "\n",
    "for file in all_files:\n",
    "    results_generator = load_from_pickle(path_to_directory + file)\n",
    "    for individual_file_results in results_generator:\n",
    "        append_to_pickle(individual_file_results, path_to_new_results)\n",
    "    os.remove(path_to_directory + file)"
   ]
  },
  {
   "cell_type": "markdown",
   "metadata": {},
   "source": [
    "# Access Results"
   ]
  },
  {
   "cell_type": "code",
   "execution_count": null,
   "metadata": {},
   "outputs": [],
   "source": [
    "path_to_results = \"<Path>/SHIP_Results.pkl\"\n",
    "\n",
    "results_generator = load_from_pickle(path_to_results)\n",
    "\n",
    "count = 0\n",
    "first_entry = True\n",
    "for individual_file_results in results_generator:\n",
    "    if first_entry:\n",
    "        for key in individual_file_results:\n",
    "            print(key)\n",
    "        first_entry = False\n",
    "\n",
    "    count += 1\n",
    "\n",
    "print(f\"Total number of files: {count}\")"
   ]
  }
 ],
 "metadata": {
  "kernelspec": {
   "display_name": "master",
   "language": "python",
   "name": "python3"
  },
  "language_info": {
   "codemirror_mode": {
    "name": "ipython",
    "version": 3
   },
   "file_extension": ".py",
   "mimetype": "text/x-python",
   "name": "python",
   "nbconvert_exporter": "python",
   "pygments_lexer": "ipython3",
   "version": "3.12.3"
  }
 },
 "nbformat": 4,
 "nbformat_minor": 2
}
