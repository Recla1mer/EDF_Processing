{
 "cells": [
  {
   "cell_type": "markdown",
   "metadata": {},
   "source": [
    "Author: Johannes Peter Knoll "
   ]
  },
  {
   "cell_type": "markdown",
   "metadata": {},
   "source": [
    "# Introduction\n",
    "\n",
    "To determine the RRI, my program first checks where the ECG is processable: \\\n",
    "key: \"valid_ecg_regions\" - list of tuples, e.g.: \n",
    "\\[ \\[start_valid_region_1, end_valid_region_1\\], \\[..._2,..._2\\], ... \\] \n",
    "\n",
    "It then calculates the position of the r-peaks within these regions (but adds them to the same list): \\\n",
    "key: \"hamilton\" - list of values, e.g.: \\[ rpeak_position_1, rpeak_position_2, ... \\]\n",
    "\n",
    "From those, it can determine the RRI (separated into lists, containing the rri values within a valid ecg region): \\\n",
    "key: \"RRI\" - list of lists, e.g.: \\[ \\[\\<rri_values_within_valid_ecg_region_1\\>\\], \\[\\<..._2\\>\\], ... \\]\n",
    "\n",
    "I also found a channel in the provided SHIP data which was called: \"RR\". I assumed it might also hold the \n",
    "RR-Intervals, which is why I added this to the results as well: \\\n",
    "key: \"SHIP_RR\" - list of values, e.g.: \\[ ... \\]\n",
    "\n",
    "These results were saved as individual dictionaries for every .edf-file in one .pkl file in the following \n",
    "format:"
   ]
  },
  {
   "cell_type": "code",
   "execution_count": null,
   "metadata": {},
   "outputs": [],
   "source": [
    "# {\n",
    "#     \"file_name\":     \n",
    "#         Name of the (.edf) file the results are calculated for,\n",
    "\n",
    "#     \"valid_ecg_regions\": \n",
    "#         List of valid regions in the ECG data, that is used during r-peak detection,\n",
    "    \n",
    "#     \"rpeak-function-name\":\n",
    "#         List of r-peak locations detected by the rpeak-function-name function.\n",
    "    \n",
    "#     \"RRI\":\n",
    "#         List of RR-intervals calculated from the r-peak locations.\n",
    "    \n",
    "#     \"RRI_frequency\":\n",
    "#         Sampling frequency of the RR-intervals.\n",
    "    \n",
    "#     \"SHIP_RR\":\n",
    "#         Already provided RR-intervals for the SHIP data (?)\n",
    "\n",
    "#     \"SHIP_RR_frequency\":\n",
    "#         Sampling frequency of the SHIP_RR intervals.\n",
    "# }"
   ]
  },
  {
   "cell_type": "markdown",
   "metadata": {},
   "source": [
    "# Access Results"
   ]
  },
  {
   "cell_type": "code",
   "execution_count": null,
   "metadata": {},
   "outputs": [],
   "source": [
    "import pickle\n",
    "\n",
    "def load_from_pickle(file_name: str):\n",
    "    \"\"\"\n",
    "    Load data from a pickle file as a generator.\n",
    "\n",
    "    ARGUMENTS:\n",
    "    --------------------------------\n",
    "    file_name: str\n",
    "        path to the pickle file\n",
    "    key: str\n",
    "        key of the data to be loaded\n",
    "    \n",
    "    RETURNS:\n",
    "    --------------------------------\n",
    "    any\n",
    "        data from the pickle file\n",
    "    \"\"\"\n",
    "\n",
    "    with open(file_name, \"rb\") as f:\n",
    "        while True:\n",
    "            try:\n",
    "                yield pickle.load(f)\n",
    "            except:\n",
    "                break"
   ]
  },
  {
   "cell_type": "code",
   "execution_count": null,
   "metadata": {},
   "outputs": [],
   "source": [
    "path_to_results = \"<Path>/EDF-gek_Results.pkl\"\n",
    "\n",
    "results_generator = load_from_pickle(path_to_results)\n",
    "\n",
    "count = 0\n",
    "first_entry = True\n",
    "for individual_file_results in results_generator:\n",
    "    if first_entry:\n",
    "        for key in individual_file_results.items():\n",
    "            print(key)\n",
    "        first_entry = False\n",
    "\n",
    "    count += 1\n",
    "\n",
    "print(f\"Total number of files: {count}\")"
   ]
  }
 ],
 "metadata": {
  "kernelspec": {
   "display_name": "master",
   "language": "python",
   "name": "python3"
  },
  "language_info": {
   "name": "python",
   "version": "3.12.3"
  }
 },
 "nbformat": 4,
 "nbformat_minor": 2
}
